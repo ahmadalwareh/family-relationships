{
  "nbformat": 4,
  "nbformat_minor": 0,
  "metadata": {
    "colab": {
      "provenance": [],
      "gpuType": "T4",
      "authorship_tag": "ABX9TyOVPgLXCXPVnzGKD1la7VYr",
      "include_colab_link": true
    },
    "kernelspec": {
      "name": "python3",
      "display_name": "Python 3"
    },
    "language_info": {
      "name": "python"
    }
  },
  "cells": [
    {
      "cell_type": "markdown",
      "metadata": {
        "id": "view-in-github",
        "colab_type": "text"
      },
      "source": [
        "<a href=\"https://colab.research.google.com/github/ahmadalwareh/family-relationships/blob/main/family_relationships.ipynb\" target=\"_parent\"><img src=\"https://colab.research.google.com/assets/colab-badge.svg\" alt=\"Open In Colab\"/></a>"
      ]
    },
    {
      "cell_type": "code",
      "source": [
        "!pip install pyDatalog pandas"
      ],
      "metadata": {
        "colab": {
          "base_uri": "https://localhost:8080/"
        },
        "id": "DMSovc2oQTDm",
        "outputId": "ee456c0d-e17a-43f3-cb9e-48b4f3a0c402"
      },
      "execution_count": 1,
      "outputs": [
        {
          "output_type": "stream",
          "name": "stdout",
          "text": [
            "Requirement already satisfied: pyDatalog in /usr/local/lib/python3.10/dist-packages (0.17.4)\n",
            "Requirement already satisfied: pandas in /usr/local/lib/python3.10/dist-packages (1.5.3)\n",
            "Requirement already satisfied: python-dateutil>=2.8.1 in /usr/local/lib/python3.10/dist-packages (from pandas) (2.8.2)\n",
            "Requirement already satisfied: pytz>=2020.1 in /usr/local/lib/python3.10/dist-packages (from pandas) (2023.3.post1)\n",
            "Requirement already satisfied: numpy>=1.21.0 in /usr/local/lib/python3.10/dist-packages (from pandas) (1.23.5)\n",
            "Requirement already satisfied: six>=1.5 in /usr/local/lib/python3.10/dist-packages (from python-dateutil>=2.8.1->pandas) (1.16.0)\n"
          ]
        }
      ]
    },
    {
      "cell_type": "code",
      "source": [
        "import pandas as pd\n",
        "from pyDatalog import pyDatalog\n",
        "import csv"
      ],
      "metadata": {
        "id": "EOImjxo2R7HH"
      },
      "execution_count": 2,
      "outputs": []
    },
    {
      "cell_type": "code",
      "source": [
        "data = \"\"\"Ahmad,Bachar,Rafah,Male\n",
        "Amjad,Bachar,Rafah,Male\n",
        "Amr,Bachar,Suhair,Male\n",
        "Danah,Bachar,Rafah,Female\n",
        "Yazan,Hassan,Ghalia,Male\n",
        "Leen,Hassan,Ghalia,Female\n",
        "Dema,Faiaz,Sahar,Female\n",
        "Dania,Faiaz,Sahar,Female\n",
        "Tareq,Faiaz,Sahar,Male\n",
        "Asmaa,Waleed,Hanan,Female\n",
        "Alaa,Waleed,Hanan,Female\n",
        "Firas,Waleed,Hanan,Male\n",
        "Farouk,Shareef,Sameah,Male\n",
        "Usaema,Saeed,Adebeh,Female\n",
        "Bachar,Farouk,Usaema,Male\n",
        "Sahar,Farouk,Usaema,Female\n",
        "Hassan,Farouk,Usaema,Male\n",
        "Hanan,Farouk,Usaema,Female\n",
        "Rafah,Zuhair,Rukaieh,Female\n",
        "Zoukaa,Zuhair,Rukaieh,Female\n",
        "Lujain,Adnan,Zoukaa,Female\n",
        "Mohammad,Adnan,Zoukaa,Male\"\"\"\n",
        "family_lst = [line.split(',') for line in data.split('\\n')]"
      ],
      "metadata": {
        "id": "AXbz4MNySDpi"
      },
      "execution_count": 3,
      "outputs": []
    },
    {
      "cell_type": "code",
      "source": [
        "with open(\"data.csv\", \"w\", newline='') as f:\n",
        "    write = csv.writer(f)\n",
        "    write.writerows(family_lst)\n",
        "\n",
        "data = pd.read_csv('data.csv', header=None)\n",
        "data.columns = ['name', 'father_name', 'mother_name', 'gender']\n",
        "print(data)"
      ],
      "metadata": {
        "colab": {
          "base_uri": "https://localhost:8080/"
        },
        "id": "k1cSSA8FSdAt",
        "outputId": "355541fe-b9ce-46c8-f507-6215c05df911"
      },
      "execution_count": 4,
      "outputs": [
        {
          "output_type": "stream",
          "name": "stdout",
          "text": [
            "        name father_name mother_name  gender\n",
            "0      Ahmad      Bachar       Rafah    Male\n",
            "1      Amjad      Bachar       Rafah    Male\n",
            "2        Amr      Bachar      Suhair    Male\n",
            "3      Danah      Bachar       Rafah  Female\n",
            "4      Yazan      Hassan      Ghalia    Male\n",
            "5       Leen      Hassan      Ghalia  Female\n",
            "6       Dema       Faiaz       Sahar  Female\n",
            "7      Dania       Faiaz       Sahar  Female\n",
            "8      Tareq       Faiaz       Sahar    Male\n",
            "9      Asmaa      Waleed       Hanan  Female\n",
            "10      Alaa      Waleed       Hanan  Female\n",
            "11     Firas      Waleed       Hanan    Male\n",
            "12    Farouk     Shareef      Sameah    Male\n",
            "13    Usaema       Saeed      Adebeh  Female\n",
            "14    Bachar      Farouk      Usaema    Male\n",
            "15     Sahar      Farouk      Usaema  Female\n",
            "16    Hassan      Farouk      Usaema    Male\n",
            "17     Hanan      Farouk      Usaema  Female\n",
            "18     Rafah      Zuhair     Rukaieh  Female\n",
            "19    Zoukaa      Zuhair     Rukaieh  Female\n",
            "20    Lujain       Adnan      Zoukaa  Female\n",
            "21  Mohammad       Adnan      Zoukaa    Male\n"
          ]
        }
      ]
    },
    {
      "cell_type": "code",
      "source": [
        "pyDatalog.create_terms('X,Y,Z,W, parent, male, female, father_of, mother_of, son, daughter, aunt, uncle, cousin, niece, nephew, '\n",
        "                      'sibling, brother, sister, mother_in_law, father_in_law, brother_in_law, sister_in_law, '\n",
        "                      'spouse, grandparent, grandchild, great_grandparent, great_grandchild, half_sibling, step_parent, step_child,'\n",
        "                      'step_mother, step_father, step_sister, step_brother, half_sister, half_brother, sibling_in_law')"
      ],
      "metadata": {
        "id": "WdGE4kLESjqt"
      },
      "execution_count": 5,
      "outputs": []
    },
    {
      "cell_type": "code",
      "source": [
        "for index, row in data.iterrows():\n",
        "    name, father_name, mother_name, gender = row['name'], row['father_name'], row['mother_name'], row['gender']\n",
        "    if gender == 'Male':\n",
        "        +son(name, father_name)\n",
        "        +son(name, mother_name)\n",
        "        +male(name)\n",
        "    else:\n",
        "        +daughter(name, father_name)\n",
        "        +daughter(name, mother_name)\n",
        "        +female(name)\n",
        "\n",
        "\n",
        "    +father_of(father_name, name)\n",
        "    +mother_of(mother_name, name)"
      ],
      "metadata": {
        "id": "WL8800x2SniX"
      },
      "execution_count": 6,
      "outputs": []
    },
    {
      "cell_type": "code",
      "source": [
        "print(son(X, \"Bachar\"))\n",
        "print(son(X, \"Sahar\"))\n",
        "print(son(X, \"Hassan\"))\n",
        "print(son(X, \"Waleed\"))"
      ],
      "metadata": {
        "colab": {
          "base_uri": "https://localhost:8080/"
        },
        "id": "G7VNjr3q9BQ0",
        "outputId": "9264cd4b-5f25-47b0-f1ad-f383b448cd9a"
      },
      "execution_count": 7,
      "outputs": [
        {
          "output_type": "stream",
          "name": "stdout",
          "text": [
            "X    \n",
            "-----\n",
            "Amjad\n",
            "Amr  \n",
            "Ahmad\n",
            "X    \n",
            "-----\n",
            "Tareq\n",
            "X    \n",
            "-----\n",
            "Yazan\n",
            "X    \n",
            "-----\n",
            "Firas\n"
          ]
        }
      ]
    },
    {
      "cell_type": "code",
      "source": [
        "print(daughter(X, \"Rafah\"))\n",
        "print(daughter(X, \"Hassan\"))\n",
        "print(daughter(X, \"Hanan\"))\n",
        "print(daughter(X, \"Usaema\"))"
      ],
      "metadata": {
        "colab": {
          "base_uri": "https://localhost:8080/"
        },
        "id": "fIQ2RHSF9jXd",
        "outputId": "2c86115e-f313-4c62-94fd-f173d672fc79"
      },
      "execution_count": 8,
      "outputs": [
        {
          "output_type": "stream",
          "name": "stdout",
          "text": [
            "X    \n",
            "-----\n",
            "Danah\n",
            "X   \n",
            "----\n",
            "Leen\n",
            "X    \n",
            "-----\n",
            "Asmaa\n",
            "Alaa \n",
            "X    \n",
            "-----\n",
            "Hanan\n",
            "Sahar\n"
          ]
        }
      ]
    },
    {
      "cell_type": "code",
      "source": [
        "parent(X, Y) <= father_of(X, Y)\n",
        "parent(X, Y) <= mother_of(X, Y)\n",
        "\n",
        "print(\"Bachar's parents are:\", parent(X, \"Bachar\"))\n",
        "\n",
        "print(\"Asmaa's parents are:\", parent(X, \"Asmaa\"))"
      ],
      "metadata": {
        "colab": {
          "base_uri": "https://localhost:8080/"
        },
        "id": "rLcpvW7JSvoA",
        "outputId": "04ef7d1f-94f6-44ea-b613-66bb91682e84"
      },
      "execution_count": 9,
      "outputs": [
        {
          "output_type": "stream",
          "name": "stdout",
          "text": [
            "Bachar's parents are: X     \n",
            "------\n",
            "Usaema\n",
            "Farouk\n",
            "Asmaa's parents are: X     \n",
            "------\n",
            "Hanan \n",
            "Waleed\n"
          ]
        }
      ]
    },
    {
      "cell_type": "code",
      "source": [
        "brother(X, Y) <= (parent(Z, X) & parent(Z, Y) & male(X) & (X != Y))\n",
        "print(brother(X, \"Amjad\"))\n",
        "print(brother(X, \"Bachar\"))"
      ],
      "metadata": {
        "colab": {
          "base_uri": "https://localhost:8080/"
        },
        "id": "_91ZRbkLSxRN",
        "outputId": "599b359a-1417-4ada-f302-c5fce75945bc"
      },
      "execution_count": 10,
      "outputs": [
        {
          "output_type": "stream",
          "name": "stdout",
          "text": [
            "X    \n",
            "-----\n",
            "Ahmad\n",
            "Amr  \n",
            "X     \n",
            "------\n",
            "Hassan\n"
          ]
        }
      ]
    },
    {
      "cell_type": "code",
      "source": [
        "sister(X, Y) <= (parent(Z, X) & parent(Z, Y) & (X != Y) & female(X))\n",
        "print(sister(X, \"Ahmad\"))\n",
        "\n",
        "print(sister(X, \"Asmaa\"))"
      ],
      "metadata": {
        "colab": {
          "base_uri": "https://localhost:8080/"
        },
        "id": "KMo0ahvoS8BK",
        "outputId": "d66b9745-2b36-4192-c3b8-2808377097ce"
      },
      "execution_count": 11,
      "outputs": [
        {
          "output_type": "stream",
          "name": "stdout",
          "text": [
            "X    \n",
            "-----\n",
            "Danah\n",
            "X   \n",
            "----\n",
            "Alaa\n"
          ]
        }
      ]
    },
    {
      "cell_type": "code",
      "source": [
        "sibling(X,Y) <= parent(Z, X) & parent(Z, Y) & (X != Y)\n",
        "\n",
        "print(True if sibling(\"Asmaa\", \"Alaa\") else False)\n",
        "print(sibling(X, \"Dema\"))"
      ],
      "metadata": {
        "colab": {
          "base_uri": "https://localhost:8080/"
        },
        "id": "2pkkjCmOsUEM",
        "outputId": "bfbbfcda-a974-4465-f3fb-bc737c9dcf75"
      },
      "execution_count": 12,
      "outputs": [
        {
          "output_type": "stream",
          "name": "stdout",
          "text": [
            "True\n",
            "X    \n",
            "-----\n",
            "Tareq\n",
            "Dania\n"
          ]
        }
      ]
    },
    {
      "cell_type": "code",
      "source": [
        "uncle(X, Y) <= brother(X, Z) & parent(Z, Y) & male(X)\n",
        "\n",
        "print(uncle(X, \"Danah\"))"
      ],
      "metadata": {
        "colab": {
          "base_uri": "https://localhost:8080/"
        },
        "id": "mcvgMEo6sj0e",
        "outputId": "9895951c-4e24-4ac5-cc79-3bd83040c9d9"
      },
      "execution_count": 13,
      "outputs": [
        {
          "output_type": "stream",
          "name": "stdout",
          "text": [
            "X     \n",
            "------\n",
            "Hassan\n"
          ]
        }
      ]
    },
    {
      "cell_type": "code",
      "source": [
        "aunt(X, Y) <= sister(X, Z) & parent(Z, Y) & female(X)\n",
        "\n",
        "print(aunt(X, \"Ahmad\"))"
      ],
      "metadata": {
        "colab": {
          "base_uri": "https://localhost:8080/"
        },
        "id": "o5CBDIT03V_B",
        "outputId": "fdcbc6c1-aaec-49e4-ed73-446eab9d0c22"
      },
      "execution_count": 14,
      "outputs": [
        {
          "output_type": "stream",
          "name": "stdout",
          "text": [
            "X     \n",
            "------\n",
            "Zoukaa\n",
            "Hanan \n",
            "Sahar \n"
          ]
        }
      ]
    },
    {
      "cell_type": "code",
      "source": [
        "cousin(X, Y) <= parent(Z, X) & (sibling(W, Z) & parent(W, Y))\n",
        "\n",
        "print(cousin(X, \"Ahmad\"))"
      ],
      "metadata": {
        "colab": {
          "base_uri": "https://localhost:8080/"
        },
        "id": "AZmL5BOj3oWc",
        "outputId": "b34d0cee-8eb8-4f4b-8d6c-596645b88b78"
      },
      "execution_count": 15,
      "outputs": [
        {
          "output_type": "stream",
          "name": "stdout",
          "text": [
            "X       \n",
            "--------\n",
            "Lujain  \n",
            "Mohammad\n",
            "Dema    \n",
            "Dania   \n",
            "Tareq   \n",
            "Asmaa   \n",
            "Alaa    \n",
            "Firas   \n",
            "Yazan   \n",
            "Leen    \n"
          ]
        }
      ]
    },
    {
      "cell_type": "code",
      "source": [
        "niece(X, Y) <= daughter(X, Z) & sibling(Z, Y)\n",
        "\n",
        "nephew(X, Y) <= son(X, Z) & sibling(Z, Y)\n",
        "\n",
        "print(niece(X, \"Bachar\"))\n",
        "\n",
        "print(nephew(Y, \"Bachar\"))"
      ],
      "metadata": {
        "colab": {
          "base_uri": "https://localhost:8080/"
        },
        "id": "be9Plyz92XZe",
        "outputId": "c3ad65a2-0bed-4165-cfab-84ca1f1864ea"
      },
      "execution_count": 16,
      "outputs": [
        {
          "output_type": "stream",
          "name": "stdout",
          "text": [
            "X    \n",
            "-----\n",
            "Alaa \n",
            "Asmaa\n",
            "Dania\n",
            "Dema \n",
            "Leen \n",
            "Y    \n",
            "-----\n",
            "Firas\n",
            "Tareq\n",
            "Yazan\n"
          ]
        }
      ]
    },
    {
      "cell_type": "code",
      "source": [
        "+spouse('Bachar', 'Rafah')\n",
        "+spouse('Hassan', 'Ghalia')\n",
        "+spouse('Farouk', 'Usaema')\n",
        "+spouse('Zuhair', 'Rukaieh')\n",
        "+spouse('Adnan', 'Zoukaa')\n",
        "\n",
        "mother_in_law(X, Y) <= mother_of(X, Z) & spouse(Z, Y)\n",
        "brother_in_law(X, Y) <= brother(X, Z) & spouse(Z, Y)\n",
        "\n",
        "print(mother_in_law(X, \"Rafah\"))\n",
        "print(brother_in_law(Y, \"Ghalia\"))"
      ],
      "metadata": {
        "colab": {
          "base_uri": "https://localhost:8080/"
        },
        "id": "Fu_MfMi926gW",
        "outputId": "39037f1c-0d94-4eeb-bbed-43064a7f793a"
      },
      "execution_count": 17,
      "outputs": [
        {
          "output_type": "stream",
          "name": "stdout",
          "text": [
            "X     \n",
            "------\n",
            "Usaema\n",
            "Y     \n",
            "------\n",
            "Bachar\n"
          ]
        }
      ]
    },
    {
      "cell_type": "code",
      "source": [
        "step_mother(X, Y) <= mother_of(X, Z) & father_of(W, Y) & spouse(W, Z) & (X != Y)\n",
        "step_father(X, Y) <= father_of(X, Z) & mother_of(W, Y) & spouse(W, Z) & (X != Y)\n",
        "step_sister(X, Y) <= sister(X, Z) & (step_mother(Z, Y) or step_father(Z, Y))\n",
        "step_brother(X, Y) <= brother(X, Z) & (step_mother(Z, Y) or step_father(Z, Y))\n",
        "\n",
        "print(True if step_brother(X, \"Ahmad\") else False)"
      ],
      "metadata": {
        "colab": {
          "base_uri": "https://localhost:8080/"
        },
        "id": "ntgv-BbU5qm9",
        "outputId": "5844dffc-8b95-4ee0-be65-79fbf45415d9"
      },
      "execution_count": 18,
      "outputs": [
        {
          "output_type": "stream",
          "name": "stdout",
          "text": [
            "False\n"
          ]
        }
      ]
    },
    {
      "cell_type": "code",
      "source": [
        "grandparent(X, Y) <= parent(X, Z) & parent(Z, Y)\n",
        "\n",
        "great_grandparent(X, Y) <= parent(X, Z) & grandparent(Z, Y)\n",
        "\n",
        "grandchild(X, Y) <= parent(Y, Z) & parent(Z, X)\n",
        "\n",
        "print(grandparent(X, \"Danah\"))\n",
        "print(grandchild(Y, \"Rukaieh\"))"
      ],
      "metadata": {
        "colab": {
          "base_uri": "https://localhost:8080/"
        },
        "id": "U7ajH_397hRp",
        "outputId": "8f3d3e15-d64d-4bc0-964b-b2ef02ca0cd0"
      },
      "execution_count": 19,
      "outputs": [
        {
          "output_type": "stream",
          "name": "stdout",
          "text": [
            "X      \n",
            "-------\n",
            "Rukaieh\n",
            "Usaema \n",
            "Zuhair \n",
            "Farouk \n",
            "Y       \n",
            "--------\n",
            "Danah   \n",
            "Amjad   \n",
            "Ahmad   \n",
            "Mohammad\n",
            "Lujain  \n"
          ]
        }
      ]
    },
    {
      "cell_type": "code",
      "source": [
        "half_sister(X, Y) <= daughter(X, Z) & parent(Z, X)\n",
        "half_brother(X, Y) <= son(X, Z) & parent(Z, Y) & (X != Y)\n",
        "\n",
        "\n",
        "print(half_brother(X, \"Amr\"))"
      ],
      "metadata": {
        "colab": {
          "base_uri": "https://localhost:8080/"
        },
        "id": "KB6T18Z672rT",
        "outputId": "1a5e9e73-ba07-4aba-eec5-ebd69e7a63b7"
      },
      "execution_count": 24,
      "outputs": [
        {
          "output_type": "stream",
          "name": "stdout",
          "text": [
            "X    \n",
            "-----\n",
            "Amjad\n",
            "Ahmad\n"
          ]
        }
      ]
    },
    {
      "cell_type": "code",
      "source": [
        "sister_in_law(X, Y) <= spouse(Z, Y) & sister(X, Z)\n",
        "brother_in_law(X, Y) <= spouse(Z, Y) & brother(X, Z)\n",
        "\n",
        "print(sister_in_law(X, \"Rafah\"))\n",
        "print(brother_in_law(X, \"Ghalia\"))"
      ],
      "metadata": {
        "colab": {
          "base_uri": "https://localhost:8080/"
        },
        "id": "LJM_t2f6BbO_",
        "outputId": "146ecce2-e0b7-4c87-8f53-c5fcf3feedee"
      },
      "execution_count": 21,
      "outputs": [
        {
          "output_type": "stream",
          "name": "stdout",
          "text": [
            "X    \n",
            "-----\n",
            "Hanan\n",
            "Sahar\n",
            "X     \n",
            "------\n",
            "Bachar\n"
          ]
        }
      ]
    },
    {
      "cell_type": "code",
      "source": [
        "!pip install matplotlib networkx\n"
      ],
      "metadata": {
        "colab": {
          "base_uri": "https://localhost:8080/"
        },
        "id": "lluuDU-jdSgg",
        "outputId": "134b76f1-0041-42b0-9b41-c9c3fac49a13"
      },
      "execution_count": 22,
      "outputs": [
        {
          "output_type": "stream",
          "name": "stdout",
          "text": [
            "Requirement already satisfied: matplotlib in /usr/local/lib/python3.10/dist-packages (3.7.1)\n",
            "Requirement already satisfied: networkx in /usr/local/lib/python3.10/dist-packages (3.1)\n",
            "Requirement already satisfied: contourpy>=1.0.1 in /usr/local/lib/python3.10/dist-packages (from matplotlib) (1.1.1)\n",
            "Requirement already satisfied: cycler>=0.10 in /usr/local/lib/python3.10/dist-packages (from matplotlib) (0.12.0)\n",
            "Requirement already satisfied: fonttools>=4.22.0 in /usr/local/lib/python3.10/dist-packages (from matplotlib) (4.43.0)\n",
            "Requirement already satisfied: kiwisolver>=1.0.1 in /usr/local/lib/python3.10/dist-packages (from matplotlib) (1.4.5)\n",
            "Requirement already satisfied: numpy>=1.20 in /usr/local/lib/python3.10/dist-packages (from matplotlib) (1.23.5)\n",
            "Requirement already satisfied: packaging>=20.0 in /usr/local/lib/python3.10/dist-packages (from matplotlib) (23.2)\n",
            "Requirement already satisfied: pillow>=6.2.0 in /usr/local/lib/python3.10/dist-packages (from matplotlib) (9.4.0)\n",
            "Requirement already satisfied: pyparsing>=2.3.1 in /usr/local/lib/python3.10/dist-packages (from matplotlib) (3.1.1)\n",
            "Requirement already satisfied: python-dateutil>=2.7 in /usr/local/lib/python3.10/dist-packages (from matplotlib) (2.8.2)\n",
            "Requirement already satisfied: six>=1.5 in /usr/local/lib/python3.10/dist-packages (from python-dateutil>=2.7->matplotlib) (1.16.0)\n"
          ]
        }
      ]
    },
    {
      "cell_type": "code",
      "source": [
        "import matplotlib.pyplot as plt\n",
        "import networkx as nx\n",
        "import pandas as pd\n",
        "\n",
        "# Create a pandas DataFrame\n",
        "data = pd.DataFrame({\n",
        "    'name': ['Ahmad', 'Amjad', 'Amr', 'Danah', 'Yazan', 'Leen', 'Dema', 'Dania', 'Tareq', 'Asmaa', 'Alaa', 'Firas',\n",
        "             'Farouk', 'Usaema', 'Bachar', 'Sahar', 'Hassan', 'Hanan', 'Rafah', 'Zoukaa', 'Lujain', 'Mohammad'],\n",
        "    'father_name': ['Bachar', 'Bachar', 'Bachar', 'Bachar', 'Hassan', 'Hassan', 'Faiaz', 'Faiaz', 'Faiaz', 'Waleed',\n",
        "                    'Waleed', 'Waleed', 'Shareef', 'Saeed', 'Farouk', 'Farouk', 'Farouk', 'Farouk', 'Zuhair', 'Zuhair',\n",
        "                    'Adnan', 'Adnan'],\n",
        "    'mother_name': ['Rafah', 'Rafah', 'Suhair', 'Rafah', 'Ghalia', 'Ghalia', 'Sahar', 'Sahar', 'Sahar', 'Hanan', 'Hanan',\n",
        "                    'Hanan', 'Sameah', 'Adebeh', 'Usaema', 'Usaema', 'Usaema', 'Usaema', 'Rukaieh', 'Rukaieh', 'Zoukaa',\n",
        "                    'Zoukaa'],\n",
        "    'gender': ['Male', 'Male', 'Male', 'Female', 'Male', 'Female', 'Female', 'Female', 'Male', 'Female', 'Female',\n",
        "               'Male', 'Male', 'Female', 'Male', 'Female', 'Male', 'Female', 'Female', 'Female', 'Female', 'Male']\n",
        "})\n",
        "\n",
        "# Create a graph\n",
        "G = nx.Graph()\n",
        "\n",
        "# Add nodes with the person names\n",
        "for name in data['name']:\n",
        "    G.add_node(name)\n",
        "\n",
        "# Add edges between parents and children\n",
        "for _, row in data.iterrows():\n",
        "    G.add_edge(row['name'], row['father_name'])\n",
        "    G.add_edge(row['name'], row['mother_name'])\n",
        "\n",
        "# Draw the graph\n",
        "pos = nx.spring_layout(G)\n",
        "plt.figure(figsize=(14,14))\n",
        "\n",
        "# Draw male nodes in blue, female nodes in red\n",
        "male = [name for name in data['name'][data['gender'] == 'Male']]\n",
        "female = [name for name in data['name'][data['gender'] == 'Female']]\n",
        "nx.draw_networkx_nodes(G, pos, nodelist=male, node_color='blue', node_shape='s', node_size=3000)\n",
        "nx.draw_networkx_nodes(G, pos, nodelist=female, node_color='red', node_shape='o', node_size=2000)\n",
        "\n",
        "# Draw edges\n",
        "nx.draw_networkx_edges(G, pos)\n",
        "\n",
        "# Add labels\n",
        "nx.draw_networkx_labels(G, pos)\n",
        "\n",
        "plt.show()\n"
      ],
      "metadata": {
        "colab": {
          "base_uri": "https://localhost:8080/",
          "height": 1000
        },
        "id": "9x8UgvBndVTo",
        "outputId": "562c0e48-2ebc-4bea-91ea-a6530cf10f7f"
      },
      "execution_count": 23,
      "outputs": [
        {
          "output_type": "display_data",
          "data": {
            "text/plain": [
              "<Figure size 1400x1400 with 1 Axes>"
            ],
            "image/png": "[encoded data removed]"
          },
          "metadata": {}
        }
      ]
    }
  ]
}